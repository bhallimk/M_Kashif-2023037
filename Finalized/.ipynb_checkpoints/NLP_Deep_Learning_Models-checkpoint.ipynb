{
 "cells": [
  {
   "cell_type": "markdown",
   "id": "e061096b",
   "metadata": {},
   "source": [
    "# Sentiment Analysis - NLP and Deep Learning Models"
   ]
  },
  {
   "cell_type": "markdown",
   "id": "800717af",
   "metadata": {},
   "source": [
    "### Import Libraries"
   ]
  },
  {
   "cell_type": "code",
   "execution_count": 1,
   "id": "4f88eab6",
   "metadata": {},
   "outputs": [],
   "source": [
    "import pandas as pd\n",
    "import numpy as np\n",
    "import matplotlib.pyplot as plt\n",
    "\n",
    "# Importing scikit-learn modules\n",
    "from sklearn.feature_extraction.text import TfidfVectorizer\n",
    "from sklearn.preprocessing   import MinMaxScaler       # Data scaling\n",
    "from sklearn.model_selection import train_test_split   # Train-test split\n",
    "from sklearn.metrics         import r2_score, mean_squared_error, mean_absolute_error # Evaluation metrics\n",
    "\n",
    "from sklearn.model_selection import train_test_split\n",
    "from sklearn.linear_model import LogisticRegression\n",
    "from sklearn.naive_bayes import MultinomialNB\n",
    "\n",
    "# Model Evaluation\n",
    "from sklearn.metrics import (\n",
    "    accuracy_score,\n",
    "    precision_score,\n",
    "    recall_score,\n",
    "    f1_score,\n",
    "    classification_report,\n",
    "    confusion_matrix,\n",
    "    ConfusionMatrixDisplay\n",
    ")\n",
    "\n",
    "import warnings\n",
    "warnings.filterwarnings('ignore')"
   ]
  },
  {
   "cell_type": "markdown",
   "id": "a35d060f",
   "metadata": {},
   "source": [
    "### Import Dataset"
   ]
  },
  {
   "cell_type": "code",
   "execution_count": 2,
   "id": "0e11fc0c",
   "metadata": {},
   "outputs": [],
   "source": [
    "df = pd.read_csv('Short_Amazon_Smartphones_Reviews_Cleaned_NLTK_ScoresFFs.csv')\n",
    "#df = pd.read_csv('Amazon_Smartphones_Reviews_Cleaned_NLTK_Score.csv')\n"
   ]
  },
  {
   "cell_type": "code",
   "execution_count": 3,
   "id": "2be394d6",
   "metadata": {},
   "outputs": [
    {
     "data": {
      "text/html": [
       "<div>\n",
       "<style scoped>\n",
       "    .dataframe tbody tr th:only-of-type {\n",
       "        vertical-align: middle;\n",
       "    }\n",
       "\n",
       "    .dataframe tbody tr th {\n",
       "        vertical-align: top;\n",
       "    }\n",
       "\n",
       "    .dataframe thead th {\n",
       "        text-align: right;\n",
       "    }\n",
       "</style>\n",
       "<table border=\"1\" class=\"dataframe\">\n",
       "  <thead>\n",
       "    <tr style=\"text-align: right;\">\n",
       "      <th></th>\n",
       "      <th>Product Name</th>\n",
       "      <th>Brand Name</th>\n",
       "      <th>Price</th>\n",
       "      <th>Rating</th>\n",
       "      <th>Reviews</th>\n",
       "      <th>Review Votes</th>\n",
       "      <th>Sentiments</th>\n",
       "      <th>neg</th>\n",
       "      <th>neu</th>\n",
       "      <th>pos</th>\n",
       "      <th>compound</th>\n",
       "      <th>review_length</th>\n",
       "    </tr>\n",
       "  </thead>\n",
       "  <tbody>\n",
       "    <tr>\n",
       "      <th>0</th>\n",
       "      <td>\"CLEAR CLEAN ESN\" Sprint EPIC 4G Galaxy SPH-D7...</td>\n",
       "      <td>Samsung</td>\n",
       "      <td>199.99</td>\n",
       "      <td>5</td>\n",
       "      <td>feel lucky found used phone u used hard phone ...</td>\n",
       "      <td>1.0</td>\n",
       "      <td>1</td>\n",
       "      <td>0.100</td>\n",
       "      <td>0.592</td>\n",
       "      <td>0.308</td>\n",
       "      <td>0.8966</td>\n",
       "      <td>223</td>\n",
       "    </tr>\n",
       "    <tr>\n",
       "      <th>1</th>\n",
       "      <td>\"CLEAR CLEAN ESN\" Sprint EPIC 4G Galaxy SPH-D7...</td>\n",
       "      <td>Samsung</td>\n",
       "      <td>199.99</td>\n",
       "      <td>4</td>\n",
       "      <td>nice phone nice grade pantach revue clean set ...</td>\n",
       "      <td>0.0</td>\n",
       "      <td>1</td>\n",
       "      <td>0.155</td>\n",
       "      <td>0.445</td>\n",
       "      <td>0.400</td>\n",
       "      <td>0.8548</td>\n",
       "      <td>149</td>\n",
       "    </tr>\n",
       "    <tr>\n",
       "      <th>2</th>\n",
       "      <td>\"CLEAR CLEAN ESN\" Sprint EPIC 4G Galaxy SPH-D7...</td>\n",
       "      <td>Samsung</td>\n",
       "      <td>199.99</td>\n",
       "      <td>5</td>\n",
       "      <td>pleased</td>\n",
       "      <td>0.0</td>\n",
       "      <td>1</td>\n",
       "      <td>0.000</td>\n",
       "      <td>0.000</td>\n",
       "      <td>1.000</td>\n",
       "      <td>0.4404</td>\n",
       "      <td>7</td>\n",
       "    </tr>\n",
       "    <tr>\n",
       "      <th>3</th>\n",
       "      <td>\"CLEAR CLEAN ESN\" Sprint EPIC 4G Galaxy SPH-D7...</td>\n",
       "      <td>Samsung</td>\n",
       "      <td>199.99</td>\n",
       "      <td>4</td>\n",
       "      <td>work good go slow sometimes good phone love</td>\n",
       "      <td>0.0</td>\n",
       "      <td>1</td>\n",
       "      <td>0.000</td>\n",
       "      <td>0.333</td>\n",
       "      <td>0.667</td>\n",
       "      <td>0.8750</td>\n",
       "      <td>43</td>\n",
       "    </tr>\n",
       "    <tr>\n",
       "      <th>4</th>\n",
       "      <td>\"CLEAR CLEAN ESN\" Sprint EPIC 4G Galaxy SPH-D7...</td>\n",
       "      <td>Samsung</td>\n",
       "      <td>199.99</td>\n",
       "      <td>4</td>\n",
       "      <td>great phone replace lost phone thing volume bu...</td>\n",
       "      <td>0.0</td>\n",
       "      <td>1</td>\n",
       "      <td>0.103</td>\n",
       "      <td>0.714</td>\n",
       "      <td>0.183</td>\n",
       "      <td>0.4215</td>\n",
       "      <td>119</td>\n",
       "    </tr>\n",
       "  </tbody>\n",
       "</table>\n",
       "</div>"
      ],
      "text/plain": [
       "                                        Product Name Brand Name   Price  \\\n",
       "0  \"CLEAR CLEAN ESN\" Sprint EPIC 4G Galaxy SPH-D7...    Samsung  199.99   \n",
       "1  \"CLEAR CLEAN ESN\" Sprint EPIC 4G Galaxy SPH-D7...    Samsung  199.99   \n",
       "2  \"CLEAR CLEAN ESN\" Sprint EPIC 4G Galaxy SPH-D7...    Samsung  199.99   \n",
       "3  \"CLEAR CLEAN ESN\" Sprint EPIC 4G Galaxy SPH-D7...    Samsung  199.99   \n",
       "4  \"CLEAR CLEAN ESN\" Sprint EPIC 4G Galaxy SPH-D7...    Samsung  199.99   \n",
       "\n",
       "   Rating                                            Reviews  Review Votes  \\\n",
       "0       5  feel lucky found used phone u used hard phone ...           1.0   \n",
       "1       4  nice phone nice grade pantach revue clean set ...           0.0   \n",
       "2       5                                            pleased           0.0   \n",
       "3       4        work good go slow sometimes good phone love           0.0   \n",
       "4       4  great phone replace lost phone thing volume bu...           0.0   \n",
       "\n",
       "   Sentiments    neg    neu    pos  compound  review_length  \n",
       "0           1  0.100  0.592  0.308    0.8966            223  \n",
       "1           1  0.155  0.445  0.400    0.8548            149  \n",
       "2           1  0.000  0.000  1.000    0.4404              7  \n",
       "3           1  0.000  0.333  0.667    0.8750             43  \n",
       "4           1  0.103  0.714  0.183    0.4215            119  "
      ]
     },
     "execution_count": 3,
     "metadata": {},
     "output_type": "execute_result"
    }
   ],
   "source": [
    "df.head(5)"
   ]
  },
  {
   "cell_type": "code",
   "execution_count": 4,
   "id": "8b37a90f",
   "metadata": {},
   "outputs": [
    {
     "name": "stdout",
     "output_type": "stream",
     "text": [
      "<class 'pandas.core.frame.DataFrame'>\n",
      "RangeIndex: 10000 entries, 0 to 9999\n",
      "Data columns (total 12 columns):\n",
      " #   Column         Non-Null Count  Dtype  \n",
      "---  ------         --------------  -----  \n",
      " 0   Product Name   10000 non-null  object \n",
      " 1   Brand Name     10000 non-null  object \n",
      " 2   Price          10000 non-null  float64\n",
      " 3   Rating         10000 non-null  int64  \n",
      " 4   Reviews        9974 non-null   object \n",
      " 5   Review Votes   10000 non-null  float64\n",
      " 6   Sentiments     10000 non-null  int64  \n",
      " 7   neg            10000 non-null  float64\n",
      " 8   neu            10000 non-null  float64\n",
      " 9   pos            10000 non-null  float64\n",
      " 10  compound       10000 non-null  float64\n",
      " 11  review_length  10000 non-null  int64  \n",
      "dtypes: float64(6), int64(3), object(3)\n",
      "memory usage: 937.6+ KB\n"
     ]
    }
   ],
   "source": [
    "df.info()"
   ]
  },
  {
   "cell_type": "code",
   "execution_count": 5,
   "id": "0ca72d1c",
   "metadata": {},
   "outputs": [],
   "source": [
    "# Drop null rows with null values\n",
    "df    = df.dropna()"
   ]
  },
  {
   "cell_type": "markdown",
   "id": "2ff9cf20",
   "metadata": {},
   "source": [
    "## Feature Extraction using TF-IDF\n"
   ]
  },
  {
   "cell_type": "code",
   "execution_count": 6,
   "id": "1e0e36c5",
   "metadata": {},
   "outputs": [],
   "source": [
    "# Feature Extraction using TF-IDF\n",
    "from scipy.sparse import csr_matrix\n",
    "\n",
    "#X = vectorizer.fit_transform(df['Reviews']).toarray()\n",
    "vectorizer = TfidfVectorizer(max_features=1000)\n",
    "X = vectorizer.fit_transform(df['Reviews'])\n",
    "\n",
    "# Convert X to CSR sparse matrix format\n",
    "X = csr_matrix(X)"
   ]
  },
  {
   "cell_type": "code",
   "execution_count": 7,
   "id": "09e3434a",
   "metadata": {},
   "outputs": [
    {
     "name": "stdout",
     "output_type": "stream",
     "text": [
      "Review 1 (Preprocessed): feel lucky found used phone u used hard phone line someone upgraded sold one son liked old one finally fell apart year didnt want upgrade thank seller really appreciate honesty said used phonei recommend seller highly would\n",
      "TF-IDF Features:   (0, 989)\t0.11940685421203538\n",
      "  (0, 372)\t0.1914534870682741\n",
      "  (0, 702)\t0.14918911936010104\n",
      "  (0, 734)\t0.15672003997329817\n",
      "  (0, 691)\t0.13823521451211562\n",
      "  (0, 754)\t0.28189654016567667\n",
      "  (0, 873)\t0.16521890194564107\n",
      "  (0, 925)\t0.1953571931266553\n",
      "  (0, 951)\t0.16110139149298938\n",
      "  (0, 210)\t0.1447689561135419\n",
      "  (0, 993)\t0.1640281685781857\n",
      "  (0, 297)\t0.20398090047518447\n",
      "  (0, 574)\t0.16333179858493574\n",
      "  (0, 458)\t0.22031333585463195\n",
      "  (0, 810)\t0.1834916835670472\n",
      "  (0, 576)\t0.22977644134137906\n",
      "  (0, 804)\t0.19563277830719042\n",
      "  (0, 926)\t0.23550209693433513\n",
      "  (0, 807)\t0.19733110057696118\n",
      "  (0, 460)\t0.20919228668047699\n",
      "  (0, 357)\t0.19023917058240145\n",
      "  (0, 615)\t0.1227115335580994\n",
      "  (0, 933)\t0.41009549710172766\n",
      "  (0, 309)\t0.17953596178344203\n",
      "  (0, 292)\t0.18174405134387292\n",
      "\n",
      "Review 2 (Preprocessed): nice phone nice grade pantach revue clean set easy set never android phone fantastic say least perfect size surfing social medium great phone samsung\n",
      "TF-IDF Features:   (0, 736)\t0.23924797852580212\n",
      "  (0, 347)\t0.1136316374228969\n",
      "  (0, 505)\t0.2959696581979957\n",
      "  (0, 791)\t0.2365885435524873\n",
      "  (0, 609)\t0.18202713120891223\n",
      "  (0, 450)\t0.25608968141302973\n",
      "  (0, 740)\t0.1908816284910377\n",
      "  (0, 284)\t0.27658206907481414\n",
      "  (0, 27)\t0.20118520583306893\n",
      "  (0, 551)\t0.19376937008234152\n",
      "  (0, 241)\t0.20421776728712254\n",
      "  (0, 763)\t0.45251126641151734\n",
      "  (0, 139)\t0.2613739971770403\n",
      "  (0, 556)\t0.36253659988466586\n",
      "  (0, 615)\t0.2244644483939088\n",
      "\n",
      "Review 3 (Preprocessed): pleased\n",
      "TF-IDF Features:   (0, 629)\t1.0\n",
      "\n",
      "Review 4 (Preprocessed): work good go slow sometimes good phone love\n",
      "TF-IDF Features:   (0, 482)\t0.3099578457308116\n",
      "  (0, 809)\t0.4813078597147954\n",
      "  (0, 795)\t0.453494641790411\n",
      "  (0, 339)\t0.39016370276269907\n",
      "  (0, 342)\t0.48761592938991294\n",
      "  (0, 982)\t0.22996517100294264\n",
      "  (0, 615)\t0.15404706583172217\n",
      "\n",
      "Review 5 (Preprocessed): great phone replace lost phone thing volume button work still go setting adjust job eligible upgrade phone againthaanks\n",
      "TF-IDF Features:   (0, 426)\t0.3490652640437626\n",
      "  (0, 764)\t0.32046991699483984\n",
      "  (0, 833)\t0.24199762648228057\n",
      "  (0, 100)\t0.24161236614063714\n",
      "  (0, 946)\t0.3158273910958606\n",
      "  (0, 878)\t0.24436319068657258\n",
      "  (0, 479)\t0.32874681196183236\n",
      "  (0, 714)\t0.30948035133943397\n",
      "  (0, 339)\t0.25087477250515966\n",
      "  (0, 982)\t0.14786731710551357\n",
      "  (0, 347)\t0.15043071242408937\n",
      "  (0, 925)\t0.3153824894319052\n",
      "  (0, 615)\t0.2971562115232882\n",
      "\n",
      "Review 6 (Preprocessed): already phone problem know stated used dang state charge wish would read comment would purchased item cracked side damaged good trying charge another way work requesting money back get money backsigned unhappy customer\n",
      "TF-IDF Features:   (0, 185)\t0.18027309615252088\n",
      "  (0, 918)\t0.24761138956167686\n",
      "  (0, 330)\t0.12214653959484564\n",
      "  (0, 55)\t0.1322030696014095\n",
      "  (0, 532)\t0.29503252481460274\n",
      "  (0, 960)\t0.16300907027087663\n",
      "  (0, 29)\t0.15918812544245814\n",
      "  (0, 906)\t0.20345139277898683\n",
      "  (0, 189)\t0.2345152394712175\n",
      "  (0, 780)\t0.19316665376156572\n",
      "  (0, 180)\t0.21015597839727332\n",
      "  (0, 421)\t0.16138685609319756\n",
      "  (0, 665)\t0.16384813688795233\n",
      "  (0, 146)\t0.2452636125046277\n",
      "  (0, 685)\t0.192896184720674\n",
      "  (0, 976)\t0.20067839989934683\n",
      "  (0, 126)\t0.30713041552448295\n",
      "  (0, 828)\t0.2345152394712175\n",
      "  (0, 829)\t0.21103259716279757\n",
      "  (0, 436)\t0.16360642225497804\n",
      "  (0, 654)\t0.12867127741542164\n",
      "  (0, 20)\t0.18472483348350233\n",
      "  (0, 342)\t0.09601798685484621\n",
      "  (0, 982)\t0.09056633073517381\n",
      "  (0, 989)\t0.23613589134012652\n",
      "  (0, 615)\t0.06066778483042686\n",
      "  (0, 933)\t0.13516569935302775\n",
      "\n",
      "Review 7 (Preprocessed): charging port loose got soldered needed new battery well later including cost purchase usable phone phone sold state\n",
      "TF-IDF Features:   (0, 664)\t0.22061387055379303\n",
      "  (0, 172)\t0.2901201100920956\n",
      "  (0, 402)\t0.340661387178891\n",
      "  (0, 445)\t0.310633774025523\n",
      "  (0, 967)\t0.20059252817217882\n",
      "  (0, 64)\t0.1901738745630444\n",
      "  (0, 552)\t0.15866785102533806\n",
      "  (0, 548)\t0.2657601671015327\n",
      "  (0, 344)\t0.19315872598672987\n",
      "  (0, 639)\t0.3470077712801242\n",
      "  (0, 129)\t0.2833842259229091\n",
      "  (0, 828)\t0.3541841640588575\n",
      "  (0, 804)\t0.2921476803419081\n",
      "  (0, 615)\t0.18325093673159423\n",
      "\n",
      "Review 8 (Preprocessed): phone look good wouldnt stay charged buy new battery still couldnt stay charged longso trashed itmoney lost never buy person\n",
      "TF-IDF Features:   (0, 613)\t0.23914685998514978\n",
      "  (0, 174)\t0.21487164460848118\n",
      "  (0, 101)\t0.3183973331443788\n",
      "  (0, 127)\t0.499296296627628\n",
      "  (0, 830)\t0.5199128834182559\n",
      "  (0, 990)\t0.22841239863103743\n",
      "  (0, 476)\t0.17776691008974752\n",
      "  (0, 64)\t0.15478405057199723\n",
      "  (0, 552)\t0.12914104386675063\n",
      "  (0, 833)\t0.18219611355779894\n",
      "  (0, 479)\t0.2475081774752369\n",
      "  (0, 342)\t0.1180282638390665\n",
      "  (0, 551)\t0.1931302831304128\n",
      "  (0, 615)\t0.07457470781304902\n",
      "\n",
      "Review 9 (Preprocessed): originally using samsung galaxy sprint wanted return back samsung epic g sprint really missed keyboard really liked smaller compact size phone still needed basic function smart phone ie checking email getting direction text messaging phone powerful newer cell phone aware application install slower phone run likely freeze time time camera work great video great well even web browsing decent give need also notice battery life last little bit longer charging phone much quicker galaxy\n",
      "TF-IDF Features:   (0, 540)\t0.09157190359215557\n",
      "  (0, 475)\t0.1310905483835009\n",
      "  (0, 76)\t0.11817057083962787\n",
      "  (0, 466)\t0.10281003848392783\n",
      "  (0, 442)\t0.10633810574340963\n",
      "  (0, 455)\t0.10382832323071853\n",
      "  (0, 563)\t0.1517050588490468\n",
      "  (0, 21)\t0.09130993421832877\n",
      "  (0, 547)\t0.09622227838823023\n",
      "  (0, 333)\t0.11345067037041412\n",
      "  (0, 197)\t0.12902572384582814\n",
      "  (0, 94)\t0.160005372353571\n",
      "  (0, 963)\t0.1404066283078279\n",
      "  (0, 254)\t0.08837679435093322\n",
      "  (0, 944)\t0.11886946321324346\n",
      "  (0, 109)\t0.09522515636597047\n",
      "  (0, 885)\t0.15652422703679394\n",
      "  (0, 312)\t0.13738884809551782\n",
      "  (0, 732)\t0.1223859188956494\n",
      "  (0, 796)\t0.15481251688700093\n",
      "  (0, 408)\t0.1568979143156169\n",
      "  (0, 39)\t0.15229423884917892\n",
      "  (0, 119)\t0.1147213832108714\n",
      "  (0, 553)\t0.15002205819490325\n",
      "  (0, 512)\t0.15618181575492815\n",
      "  :\t:\n",
      "  (0, 246)\t0.12518886552235536\n",
      "  (0, 799)\t0.12633358974558997\n",
      "  (0, 320)\t0.13085186560442266\n",
      "  (0, 62)\t0.14429420521357714\n",
      "  (0, 798)\t0.15229423884917892\n",
      "  (0, 432)\t0.15002205819490325\n",
      "  (0, 725)\t0.1014957041613286\n",
      "  (0, 952)\t0.11322690550256602\n",
      "  (0, 822)\t0.2598417735648335\n",
      "  (0, 324)\t0.26123121208521316\n",
      "  (0, 936)\t0.09888963877026012\n",
      "  (0, 589)\t0.15618181575492815\n",
      "  (0, 967)\t0.08496513110594224\n",
      "  (0, 64)\t0.0805520940007532\n",
      "  (0, 548)\t0.11256823794123068\n",
      "  (0, 129)\t0.12003327406207644\n",
      "  (0, 55)\t0.08457180286452852\n",
      "  (0, 833)\t0.09481776973560405\n",
      "  (0, 982)\t0.05793630883300722\n",
      "  (0, 736)\t0.24819564078134984\n",
      "  (0, 347)\t0.11788135990527636\n",
      "  (0, 791)\t0.12271837264907777\n",
      "  (0, 691)\t0.174878124097495\n",
      "  (0, 458)\t0.13935661410118708\n",
      "  (0, 615)\t0.2328592197310882\n",
      "\n",
      "Review 10 (Preprocessed): battery life great responsive touch issue sometimes screen go black press top button several time get screen reilluminate\n",
      "TF-IDF Features:   (0, 766)\t0.28164804957361356\n",
      "  (0, 892)\t0.27642576313432365\n",
      "  (0, 645)\t0.326201586797585\n",
      "  (0, 77)\t0.2789704927162866\n",
      "  (0, 744)\t0.34564903328930785\n",
      "  (0, 420)\t0.21063444187481065\n",
      "  (0, 895)\t0.26734776766390056\n",
      "  (0, 724)\t0.32003719888523496\n",
      "  (0, 455)\t0.2289183948284759\n",
      "  (0, 885)\t0.17255058008309335\n",
      "  (0, 64)\t0.17759947849441268\n",
      "  (0, 330)\t0.17227809831628926\n",
      "  (0, 100)\t0.20871931432198068\n",
      "  (0, 809)\t0.26734776766390056\n",
      "  (0, 339)\t0.2167207388196382\n",
      "  (0, 347)\t0.12995110991896433\n",
      "\n"
     ]
    }
   ],
   "source": [
    "# Display the first 10 preprocessed reviews and their corresponding TF-IDF features\n",
    "for index, row in df.head(10).iterrows():\n",
    "    print(f\"Review {index + 1} (Preprocessed): {row['Reviews']}\")\n",
    "    print(f\"TF-IDF Features: {X[index]}\\n\")"
   ]
  },
  {
   "cell_type": "markdown",
   "id": "0b44f732",
   "metadata": {},
   "source": [
    "## Logistic Regression and Multinomial Naive Bayes"
   ]
  },
  {
   "cell_type": "code",
   "execution_count": 8,
   "id": "4b01033a",
   "metadata": {},
   "outputs": [],
   "source": [
    "# Splitting Data into Training and Testing Sets\n",
    "y = df['Sentiments']\n",
    "X_train, X_test, y_train, y_test = train_test_split(X, y, test_size=0.2, random_state=42)\n"
   ]
  },
  {
   "cell_type": "markdown",
   "id": "ffe0845e-ffad-4385-bd71-8fc756cff6f5",
   "metadata": {},
   "source": [
    "#### Model Training "
   ]
  },
  {
   "cell_type": "code",
   "execution_count": 9,
   "id": "9d025b67",
   "metadata": {},
   "outputs": [],
   "source": [
    "# Model Training\n",
    "def train_model(X_train, y_train, model_type):\n",
    "    if model_type == 'logistic_regression':\n",
    "        model = LogisticRegression(max_iter=1000, random_state=42)\n",
    "    elif model_type == 'multinomial_nb':\n",
    "        model = MultinomialNB()\n",
    "    else:\n",
    "        raise ValueError(\"Invalid model type\")\n",
    "    model.fit(X_train, y_train)\n",
    "    return model\n",
    "\n",
    "# Train Logistic Regression Model\n",
    "logistic_regression_model = train_model(X_train, y_train, model_type='logistic_regression')\n",
    "\n",
    "# Train Multinomial Naive Bayes Model\n",
    "multinomial_nb_model = train_model(X_train, y_train, model_type='multinomial_nb')"
   ]
  },
  {
   "cell_type": "markdown",
   "id": "9c249809-7c13-4487-835d-0560ae3f38ce",
   "metadata": {},
   "source": [
    "#### Model Evaluation and Pridiction"
   ]
  },
  {
   "cell_type": "markdown",
   "id": "d4456ecb",
   "metadata": {},
   "source": [
    "**Accuracy:** Accuracy tells us how correct our model's predictions are. It's the ratio of correctly predicted instances to the total instances. However, accuracy might not be ideal when dealing with imbalanced classes.\n",
    "\n",
    "**Precision:** Precision focuses on accurate positive predictions. It's the ratio of true positive predictions to all positive predictions. High precision means reliable positive predictions.\n",
    "\n",
    "**Recall (Sensitivity):** Recall measures the model's ability to correctly capture all positive instances. It's the ratio of true positive predictions to all actual positive instances.\n",
    "\n",
    "**F1-Score:** F1-Score balances precision and recall. It provides a single metric that considers both aspects. It's useful when dealing with imbalanced classes."
   ]
  },
  {
   "cell_type": "code",
   "execution_count": 10,
   "id": "7da27158-f9ef-4c31-95e5-0f866a6a7c61",
   "metadata": {},
   "outputs": [],
   "source": [
    "# Model Prediction and Evaluation\n",
    "def evaluate_model_predictions(model, X_test, y_test):\n",
    "    y_pred = model.predict(X_test)\n",
    "    accuracy = accuracy_score(y_test, y_pred)\n",
    "    precision = precision_score(y_test, y_pred, zero_division=1)\n",
    "    recall = recall_score(y_test, y_pred)\n",
    "    f1 = f1_score(y_test, y_pred, zero_division=1)\n",
    "\n",
    "    RMSE = np.sqrt(mean_squared_error(y_test, y_pred))\n",
    "    MSE = mean_squared_error(y_test, y_pred)\n",
    "    MAE = mean_absolute_error(y_test, y_pred)\n",
    "    r2 = r2_score(y_test, y_pred)\n",
    "    return RMSE, MSE, MAE,r2, accuracy, precision, recall, f1"
   ]
  },
  {
   "cell_type": "code",
   "execution_count": 11,
   "id": "6f153215-c595-469b-8f61-e4abf8789d38",
   "metadata": {},
   "outputs": [],
   "source": [
    "# Evaluate Logistic Regression Model\n",
    "logistic_regression_RMSE,logistic_regression_MSE,logistic_regression_MAE,logistic_regression_r2,logistic_regression_accuracy, logistic_regression_precision, logistic_regression_recall,logistic_regression_f1 = evaluate_model_predictions(logistic_regression_model, X_test, y_test)\n",
    "\n",
    "# Evaluate Multinomial Naive Bayes Model\n",
    "multinomial_nb_RMSE,multinomial_nb_MSE,multinomial_nb_MAE,multinomial_nb_r2,multinomial_nb_accuracy, multinomial_nb_precision, multinomial_nb_recall, multinomial_nb_f1 = evaluate_model_predictions(multinomial_nb_model, X_test, y_test)"
   ]
  },
  {
   "cell_type": "code",
   "execution_count": 12,
   "id": "01bc0a44-6b51-4d71-a9c6-4ddfed37af52",
   "metadata": {},
   "outputs": [
    {
     "name": "stdout",
     "output_type": "stream",
     "text": [
      "Logistic Regression Model Evaluation:\n",
      "\n",
      "Accuracy : 0.9053\n",
      "Precision: 0.9229\n",
      "Recall   : 0.9457\n",
      "F1-Score : 0.9341\n",
      "RMSE      : 0.3078\n",
      "MSE       : 0.0947\n",
      "MAE       : 0.0947\n",
      "R-squared : 0.5396\n"
     ]
    }
   ],
   "source": [
    "# Display Evaluation Metrics for Logistic Regression Model\n",
    "print(\"Logistic Regression Model Evaluation:\\n\")\n",
    "print(f\"Accuracy : {logistic_regression_accuracy:.4f}\")\n",
    "print(f\"Precision: {logistic_regression_precision:.4f}\")\n",
    "print(f\"Recall   : {logistic_regression_recall:.4f}\")\n",
    "print(f\"F1-Score : {logistic_regression_f1:.4f}\")\n",
    "\n",
    "# Print the calculated performance metrics\n",
    "print(f\"RMSE      : {logistic_regression_RMSE:.4f}\")\n",
    "print(f\"MSE       : {logistic_regression_MSE:.4f}\")\n",
    "print(f\"MAE       : {logistic_regression_MAE:.4f}\")\n",
    "print(f\"R-squared : {logistic_regression_r2:.4f}\")"
   ]
  },
  {
   "cell_type": "code",
   "execution_count": 13,
   "id": "89131ccf-2f06-49c5-986f-15c6fbf62194",
   "metadata": {},
   "outputs": [
    {
     "name": "stdout",
     "output_type": "stream",
     "text": [
      "\n",
      "Multinomial Naive Bayes Model Evaluation:\n",
      "\n",
      "Accuracy : 0.8145\n",
      "Precision: 0.8175\n",
      "Recall   : 0.9513\n",
      "F1-Score : 0.8793\n",
      "RMSE     : 0.4307\n",
      "MSE      : 0.1855\n",
      "MAE       : 0.1855\n",
      "R-squared : 0.0987\n"
     ]
    }
   ],
   "source": [
    "# Display Evaluation Metrics for Multinomial Naive Bayes Model\n",
    "print(\"\\nMultinomial Naive Bayes Model Evaluation:\\n\")\n",
    "print(f\"Accuracy : {multinomial_nb_accuracy:.4f}\")\n",
    "print(f\"Precision: {multinomial_nb_precision:.4f}\")\n",
    "print(f\"Recall   : {multinomial_nb_recall:.4f}\")\n",
    "print(f\"F1-Score : {multinomial_nb_f1:.4f}\")\n",
    "\n",
    "# Print the calculated performance metrics\n",
    "print(f\"RMSE     : {multinomial_nb_RMSE:.4f}\")\n",
    "print(f\"MSE      : {multinomial_nb_MSE:.4f}\")\n",
    "print(f\"MAE       : {multinomial_nb_MAE:.4f}\")\n",
    "print(f\"R-squared : {multinomial_nb_r2:.4f}\")"
   ]
  },
  {
   "cell_type": "code",
   "execution_count": 14,
   "id": "d0ed8487-f9cd-4ca7-8df4-ca9d8de6442d",
   "metadata": {},
   "outputs": [],
   "source": [
    "Accuracy_lr = logistic_regression_accuracy\n",
    "Accuracy_nb = multinomial_nb_accuracy "
   ]
  },
  {
   "cell_type": "code",
   "execution_count": 15,
   "id": "77665584",
   "metadata": {},
   "outputs": [
    {
     "data": {
      "image/png": "[encoded data removed]",
      "text/plain": [
       "<Figure size 640x480 with 2 Axes>"
      ]
     },
     "metadata": {},
     "output_type": "display_data"
    },
    {
     "data": {
      "image/png": "[encoded data removed]",
      "text/plain": [
       "<Figure size 640x480 with 2 Axes>"
      ]
     },
     "metadata": {},
     "output_type": "display_data"
    }
   ],
   "source": [
    "# Plot Confusion Matrix\n",
    "def plot_confusion_matrix(model, X_test, y_test, title):\n",
    "    y_pred = model.predict(X_test)\n",
    "    cm = confusion_matrix(y_test, y_pred, labels=[0, 1])\n",
    "    disp = ConfusionMatrixDisplay(confusion_matrix=cm, display_labels=['Negative', 'Positive'])\n",
    "    disp.plot(cmap=plt.cm.Blues, values_format='d', ax=None)\n",
    "    plt.title(title)\n",
    "    plt.show()\n",
    "\n",
    "# Plot Confusion Matrix for Logistic Regression Model\n",
    "plot_confusion_matrix(logistic_regression_model, X_test, y_test, title='Logistic Regression Confusion Matrix')\n",
    "\n",
    "# Plot Confusion Matrix for Multinomial Naive Bayes Model\n",
    "plot_confusion_matrix(multinomial_nb_model, X_test, y_test, title='Multinomial Naive Bayes Confusion Matrix')"
   ]
  },
  {
   "cell_type": "markdown",
   "id": "11d889af-60fd-4674-8394-8b279c0761bf",
   "metadata": {},
   "source": [
    "## DEEP LEARNING MODELS"
   ]
  },
  {
   "cell_type": "markdown",
   "id": "bbb69238-40f6-479d-b3bb-d807a0d7d62f",
   "metadata": {},
   "source": [
    "#### Data Preprocessing for Deep Learning"
   ]
  },
  {
   "cell_type": "code",
   "execution_count": 16,
   "id": "21949f56-c149-4ad9-b7af-143879777fee",
   "metadata": {},
   "outputs": [],
   "source": [
    "from tensorflow.keras.preprocessing.text import Tokenizer\n",
    "from tensorflow.keras.preprocessing.sequence import pad_sequences\n",
    "from sklearn.model_selection import train_test_split"
   ]
  },
  {
   "cell_type": "code",
   "execution_count": 17,
   "id": "f9870c6f-ebde-4676-bd95-4be9da455830",
   "metadata": {},
   "outputs": [
    {
     "data": {
      "text/plain": [
       "'feel lucky found used phone u used hard phone line someone upgraded sold one son liked old one finally fell apart year didnt want upgrade thank seller really appreciate honesty said used phonei recommend seller highly would'"
      ]
     },
     "execution_count": 17,
     "metadata": {},
     "output_type": "execute_result"
    }
   ],
   "source": [
    "# Convert dataframe reviews to a list of strings\n",
    "X_text = df['Reviews'].tolist()\n",
    "X_text[0]"
   ]
  },
  {
   "cell_type": "code",
   "execution_count": 18,
   "id": "beaaea89-ead1-4c74-ab6a-fc69f2f8452c",
   "metadata": {},
   "outputs": [
    {
     "data": {
      "text/plain": [
       "<keras.src.legacy.preprocessing.text.Tokenizer at 0x2577d242450>"
      ]
     },
     "execution_count": 18,
     "metadata": {},
     "output_type": "execute_result"
    }
   ],
   "source": [
    "# Tokenize the text data\n",
    "max_words = 10000  # Maximum number of words to tokenize\n",
    "tokenizer = Tokenizer(num_words=max_words, oov_token='<OOV>')\n",
    "tokenizer.fit_on_texts(X_text)\n",
    "tokenizer"
   ]
  },
  {
   "cell_type": "code",
   "execution_count": 19,
   "id": "b6e216d6-364b-41c8-b459-2f38208c4be5",
   "metadata": {},
   "outputs": [],
   "source": [
    "# Convert text data to sequences\n",
    "X_sequences = tokenizer.texts_to_sequences(X_text)\n"
   ]
  },
  {
   "cell_type": "code",
   "execution_count": 20,
   "id": "04752e36-62ac-44d2-81cb-dc085b758b96",
   "metadata": {},
   "outputs": [
    {
     "data": {
      "text/plain": [
       "array([[ 174, 1304,  180, ...,    0,    0,    0],\n",
       "       [  50,    2,   50, ...,    0,    0,    0],\n",
       "       [ 221,    0,    0, ...,    0,    0,    0],\n",
       "       ...,\n",
       "       [   2,   93,    2, ...,    0,    0,    0],\n",
       "       [   1,   99,   33, ...,    0,    0,    0],\n",
       "       [   2,   63,    3, ...,    0,    0,    0]])"
      ]
     },
     "execution_count": 20,
     "metadata": {},
     "output_type": "execute_result"
    }
   ],
   "source": [
    "# Pad sequences to ensure uniform length\n",
    "max_sequence_length = 100  # Maximum length of sequences\n",
    "X_padded = pad_sequences(X_sequences, maxlen=max_sequence_length, padding='post', truncating='post')\n",
    "X_padded"
   ]
  },
  {
   "cell_type": "code",
   "execution_count": 21,
   "id": "1a610339-dc05-4a5f-9564-78cd26ba84bf",
   "metadata": {},
   "outputs": [],
   "source": [
    "# y (labels) for positive and negative sentiment\n",
    "y = df['Sentiments']\n",
    "\n",
    "# Split data into train and test sets\n",
    "X_train, X_test, y_train, y_test = train_test_split(X_padded, y, test_size=0.2, random_state=42)"
   ]
  },
  {
   "cell_type": "markdown",
   "id": "e0dee758-0062-4a1d-9a17-348024cc6ae8",
   "metadata": {},
   "source": [
    "## LSTM"
   ]
  },
  {
   "cell_type": "code",
   "execution_count": 22,
   "id": "bdfb02e6-14db-4db4-a6cb-09e21eeeca3d",
   "metadata": {},
   "outputs": [],
   "source": [
    "import tensorflow as tf\n",
    "from tensorflow.keras.models import Sequential\n",
    "from tensorflow.keras.layers import LSTM, Dense, Embedding, Bidirectional, Dropout, BatchNormalization, GRU\n"
   ]
  },
  {
   "cell_type": "code",
   "execution_count": 23,
   "id": "9c9049fe-6371-4865-a131-7755a879f191",
   "metadata": {},
   "outputs": [],
   "source": [
    "# Define LSTM model\n",
    "model = Sequential()\n",
    "model.add(Embedding(input_dim=1000, output_dim=128))  # Embedding layer with input dimension 1000 and output dimension 128\n",
    "model.add(LSTM(128))  # LSTM layer with 128 units\n",
    "model.add(BatchNormalization())  # Batch normalization layer\n",
    "model.add(Dense(1, activation='sigmoid'))  # Output layer with sigmoid activation for binary classification\n",
    "\n",
    "# Compile the model\n",
    "model.compile(optimizer='adam', loss='binary_crossentropy', metrics=['accuracy'])"
   ]
  },
  {
   "cell_type": "code",
   "execution_count": 24,
   "id": "1b77aca9-3088-4a4b-abb9-c2e78dd5ff29",
   "metadata": {},
   "outputs": [
    {
     "name": "stdout",
     "output_type": "stream",
     "text": [
      "Epoch 1/5\n",
      "\u001b[1m250/250\u001b[0m \u001b[32m━━━━━━━━━━━━━━━━━━━━\u001b[0m\u001b[37m\u001b[0m \u001b[1m13s\u001b[0m 40ms/step - accuracy: 0.6702 - loss: 0.6342 - val_accuracy: 0.7103 - val_loss: 0.6020\n",
      "Epoch 2/5\n",
      "\u001b[1m250/250\u001b[0m \u001b[32m━━━━━━━━━━━━━━━━━━━━\u001b[0m\u001b[37m\u001b[0m \u001b[1m10s\u001b[0m 39ms/step - accuracy: 0.7167 - loss: 0.5894 - val_accuracy: 0.3098 - val_loss: 0.9753\n",
      "Epoch 3/5\n",
      "\u001b[1m250/250\u001b[0m \u001b[32m━━━━━━━━━━━━━━━━━━━━\u001b[0m\u001b[37m\u001b[0m \u001b[1m10s\u001b[0m 41ms/step - accuracy: 0.7158 - loss: 0.5889 - val_accuracy: 0.2952 - val_loss: 2.9901\n",
      "Epoch 4/5\n",
      "\u001b[1m250/250\u001b[0m \u001b[32m━━━━━━━━━━━━━━━━━━━━\u001b[0m\u001b[37m\u001b[0m \u001b[1m9s\u001b[0m 37ms/step - accuracy: 0.7114 - loss: 0.5955 - val_accuracy: 0.7123 - val_loss: 0.7982\n",
      "Epoch 5/5\n",
      "\u001b[1m250/250\u001b[0m \u001b[32m━━━━━━━━━━━━━━━━━━━━\u001b[0m\u001b[37m\u001b[0m \u001b[1m9s\u001b[0m 35ms/step - accuracy: 0.8178 - loss: 0.4073 - val_accuracy: 0.8722 - val_loss: 0.3320\n"
     ]
    },
    {
     "data": {
      "text/html": [
       "<pre style=\"white-space:pre;overflow-x:auto;line-height:normal;font-family:Menlo,'DejaVu Sans Mono',consolas,'Courier New',monospace\"><span style=\"font-weight: bold\">Model: \"sequential\"</span>\n",
       "</pre>\n"
      ],
      "text/plain": [
       "\u001b[1mModel: \"sequential\"\u001b[0m\n"
      ]
     },
     "metadata": {},
     "output_type": "display_data"
    },
    {
     "data": {
      "text/html": [
       "<pre style=\"white-space:pre;overflow-x:auto;line-height:normal;font-family:Menlo,'DejaVu Sans Mono',consolas,'Courier New',monospace\">┏━━━━━━━━━━━━━━━━━━━━━━━━━━━━━━━━━┳━━━━━━━━━━━━━━━━━━━━━━━━┳━━━━━━━━━━━━━━━┓\n",
       "┃<span style=\"font-weight: bold\"> Layer (type)                    </span>┃<span style=\"font-weight: bold\"> Output Shape           </span>┃<span style=\"font-weight: bold\">       Param # </span>┃\n",
       "┡━━━━━━━━━━━━━━━━━━━━━━━━━━━━━━━━━╇━━━━━━━━━━━━━━━━━━━━━━━━╇━━━━━━━━━━━━━━━┩\n",
       "│ embedding (<span style=\"color: #0087ff; text-decoration-color: #0087ff\">Embedding</span>)           │ (<span style=\"color: #00d7ff; text-decoration-color: #00d7ff\">None</span>, <span style=\"color: #00af00; text-decoration-color: #00af00\">100</span>, <span style=\"color: #00af00; text-decoration-color: #00af00\">128</span>)       │       <span style=\"color: #00af00; text-decoration-color: #00af00\">128,000</span> │\n",
       "├─────────────────────────────────┼────────────────────────┼───────────────┤\n",
       "│ lstm (<span style=\"color: #0087ff; text-decoration-color: #0087ff\">LSTM</span>)                     │ (<span style=\"color: #00d7ff; text-decoration-color: #00d7ff\">None</span>, <span style=\"color: #00af00; text-decoration-color: #00af00\">128</span>)            │       <span style=\"color: #00af00; text-decoration-color: #00af00\">131,584</span> │\n",
       "├─────────────────────────────────┼────────────────────────┼───────────────┤\n",
       "│ batch_normalization             │ (<span style=\"color: #00d7ff; text-decoration-color: #00d7ff\">None</span>, <span style=\"color: #00af00; text-decoration-color: #00af00\">128</span>)            │           <span style=\"color: #00af00; text-decoration-color: #00af00\">512</span> │\n",
       "│ (<span style=\"color: #0087ff; text-decoration-color: #0087ff\">BatchNormalization</span>)            │                        │               │\n",
       "├─────────────────────────────────┼────────────────────────┼───────────────┤\n",
       "│ dense (<span style=\"color: #0087ff; text-decoration-color: #0087ff\">Dense</span>)                   │ (<span style=\"color: #00d7ff; text-decoration-color: #00d7ff\">None</span>, <span style=\"color: #00af00; text-decoration-color: #00af00\">1</span>)              │           <span style=\"color: #00af00; text-decoration-color: #00af00\">129</span> │\n",
       "└─────────────────────────────────┴────────────────────────┴───────────────┘\n",
       "</pre>\n"
      ],
      "text/plain": [
       "┏━━━━━━━━━━━━━━━━━━━━━━━━━━━━━━━━━┳━━━━━━━━━━━━━━━━━━━━━━━━┳━━━━━━━━━━━━━━━┓\n",
       "┃\u001b[1m \u001b[0m\u001b[1mLayer (type)                   \u001b[0m\u001b[1m \u001b[0m┃\u001b[1m \u001b[0m\u001b[1mOutput Shape          \u001b[0m\u001b[1m \u001b[0m┃\u001b[1m \u001b[0m\u001b[1m      Param #\u001b[0m\u001b[1m \u001b[0m┃\n",
       "┡━━━━━━━━━━━━━━━━━━━━━━━━━━━━━━━━━╇━━━━━━━━━━━━━━━━━━━━━━━━╇━━━━━━━━━━━━━━━┩\n",
       "│ embedding (\u001b[38;5;33mEmbedding\u001b[0m)           │ (\u001b[38;5;45mNone\u001b[0m, \u001b[38;5;34m100\u001b[0m, \u001b[38;5;34m128\u001b[0m)       │       \u001b[38;5;34m128,000\u001b[0m │\n",
       "├─────────────────────────────────┼────────────────────────┼───────────────┤\n",
       "│ lstm (\u001b[38;5;33mLSTM\u001b[0m)                     │ (\u001b[38;5;45mNone\u001b[0m, \u001b[38;5;34m128\u001b[0m)            │       \u001b[38;5;34m131,584\u001b[0m │\n",
       "├─────────────────────────────────┼────────────────────────┼───────────────┤\n",
       "│ batch_normalization             │ (\u001b[38;5;45mNone\u001b[0m, \u001b[38;5;34m128\u001b[0m)            │           \u001b[38;5;34m512\u001b[0m │\n",
       "│ (\u001b[38;5;33mBatchNormalization\u001b[0m)            │                        │               │\n",
       "├─────────────────────────────────┼────────────────────────┼───────────────┤\n",
       "│ dense (\u001b[38;5;33mDense\u001b[0m)                   │ (\u001b[38;5;45mNone\u001b[0m, \u001b[38;5;34m1\u001b[0m)              │           \u001b[38;5;34m129\u001b[0m │\n",
       "└─────────────────────────────────┴────────────────────────┴───────────────┘\n"
      ]
     },
     "metadata": {},
     "output_type": "display_data"
    },
    {
     "data": {
      "text/html": [
       "<pre style=\"white-space:pre;overflow-x:auto;line-height:normal;font-family:Menlo,'DejaVu Sans Mono',consolas,'Courier New',monospace\"><span style=\"font-weight: bold\"> Total params: </span><span style=\"color: #00af00; text-decoration-color: #00af00\">780,165</span> (2.98 MB)\n",
       "</pre>\n"
      ],
      "text/plain": [
       "\u001b[1m Total params: \u001b[0m\u001b[38;5;34m780,165\u001b[0m (2.98 MB)\n"
      ]
     },
     "metadata": {},
     "output_type": "display_data"
    },
    {
     "data": {
      "text/html": [
       "<pre style=\"white-space:pre;overflow-x:auto;line-height:normal;font-family:Menlo,'DejaVu Sans Mono',consolas,'Courier New',monospace\"><span style=\"font-weight: bold\"> Trainable params: </span><span style=\"color: #00af00; text-decoration-color: #00af00\">259,969</span> (1015.50 KB)\n",
       "</pre>\n"
      ],
      "text/plain": [
       "\u001b[1m Trainable params: \u001b[0m\u001b[38;5;34m259,969\u001b[0m (1015.50 KB)\n"
      ]
     },
     "metadata": {},
     "output_type": "display_data"
    },
    {
     "data": {
      "text/html": [
       "<pre style=\"white-space:pre;overflow-x:auto;line-height:normal;font-family:Menlo,'DejaVu Sans Mono',consolas,'Courier New',monospace\"><span style=\"font-weight: bold\"> Non-trainable params: </span><span style=\"color: #00af00; text-decoration-color: #00af00\">256</span> (1.00 KB)\n",
       "</pre>\n"
      ],
      "text/plain": [
       "\u001b[1m Non-trainable params: \u001b[0m\u001b[38;5;34m256\u001b[0m (1.00 KB)\n"
      ]
     },
     "metadata": {},
     "output_type": "display_data"
    },
    {
     "data": {
      "text/html": [
       "<pre style=\"white-space:pre;overflow-x:auto;line-height:normal;font-family:Menlo,'DejaVu Sans Mono',consolas,'Courier New',monospace\"><span style=\"font-weight: bold\"> Optimizer params: </span><span style=\"color: #00af00; text-decoration-color: #00af00\">519,940</span> (1.98 MB)\n",
       "</pre>\n"
      ],
      "text/plain": [
       "\u001b[1m Optimizer params: \u001b[0m\u001b[38;5;34m519,940\u001b[0m (1.98 MB)\n"
      ]
     },
     "metadata": {},
     "output_type": "display_data"
    }
   ],
   "source": [
    "# Train the model\n",
    "model.fit(X_train, y_train, epochs=5, batch_size=32, validation_data=(X_test, y_test))\n",
    "model.summary()"
   ]
  },
  {
   "cell_type": "code",
   "execution_count": 25,
   "id": "e88d1ec8-7909-475b-8436-67054f7e96fc",
   "metadata": {},
   "outputs": [
    {
     "name": "stdout",
     "output_type": "stream",
     "text": [
      "\u001b[1m63/63\u001b[0m \u001b[32m━━━━━━━━━━━━━━━━━━━━\u001b[0m\u001b[37m\u001b[0m \u001b[1m1s\u001b[0m 16ms/step - accuracy: 0.8812 - loss: 0.3091\n",
      "LSTM Test Loss: 0.3320081830024719\n",
      "LSTM Test Accuracy: 0.8721804618835449\n"
     ]
    }
   ],
   "source": [
    "# Evaluate the model\n",
    "loss, accuracy = model.evaluate(X_test, y_test)\n",
    "print(\"LSTM Test Loss:\", loss)\n",
    "print(\"LSTM Test Accuracy:\", accuracy)\n",
    "\n",
    "Accuracy_lstm = accuracy"
   ]
  },
  {
   "cell_type": "markdown",
   "id": "ba36d611-5d51-4b7b-ac59-55bfec260217",
   "metadata": {},
   "source": [
    "## Bidirectional LSTM"
   ]
  },
  {
   "cell_type": "code",
   "execution_count": 26,
   "id": "45d160a8-f3fd-4f2a-a1d7-c9b6a8fd704d",
   "metadata": {},
   "outputs": [],
   "source": [
    "# Define LSTM model\n",
    "model = Sequential()\n",
    "model.add(Embedding(input_dim=1000, output_dim=128))  # Embedding layer with input dimension 1000 and output dimension 128\n",
    "model.add(Bidirectional(LSTM(units=128, return_sequences=True)))\n",
    "model.add(Bidirectional(LSTM(units=128, return_sequences=False)))\n",
    "model.add(BatchNormalization())  # Batch normalization layer\n",
    "model.add(Dense(1, activation='sigmoid'))  # Output layer with sigmoid activation for binary classification\n",
    "\n",
    "# Compile the model\n",
    "model.compile(optimizer='adam', loss='binary_crossentropy', metrics=['accuracy'])"
   ]
  },
  {
   "cell_type": "code",
   "execution_count": 27,
   "id": "51620f17-803a-4bbb-ad61-fd09c70af55f",
   "metadata": {},
   "outputs": [
    {
     "name": "stdout",
     "output_type": "stream",
     "text": [
      "Epoch 1/5\n",
      "\u001b[1m250/250\u001b[0m \u001b[32m━━━━━━━━━━━━━━━━━━━━\u001b[0m\u001b[37m\u001b[0m \u001b[1m33s\u001b[0m 106ms/step - accuracy: 0.7755 - loss: 0.4483 - val_accuracy: 0.7103 - val_loss: 0.6121\n",
      "Epoch 2/5\n",
      "\u001b[1m250/250\u001b[0m \u001b[32m━━━━━━━━━━━━━━━━━━━━\u001b[0m\u001b[37m\u001b[0m \u001b[1m27s\u001b[0m 108ms/step - accuracy: 0.9125 - loss: 0.2374 - val_accuracy: 0.9023 - val_loss: 0.2587\n",
      "Epoch 3/5\n",
      "\u001b[1m250/250\u001b[0m \u001b[32m━━━━━━━━━━━━━━━━━━━━\u001b[0m\u001b[37m\u001b[0m \u001b[1m28s\u001b[0m 112ms/step - accuracy: 0.9334 - loss: 0.1863 - val_accuracy: 0.9153 - val_loss: 0.2522\n",
      "Epoch 4/5\n",
      "\u001b[1m250/250\u001b[0m \u001b[32m━━━━━━━━━━━━━━━━━━━━\u001b[0m\u001b[37m\u001b[0m \u001b[1m29s\u001b[0m 117ms/step - accuracy: 0.9425 - loss: 0.1612 - val_accuracy: 0.9118 - val_loss: 0.2580\n",
      "Epoch 5/5\n",
      "\u001b[1m250/250\u001b[0m \u001b[32m━━━━━━━━━━━━━━━━━━━━\u001b[0m\u001b[37m\u001b[0m \u001b[1m28s\u001b[0m 113ms/step - accuracy: 0.9583 - loss: 0.1173 - val_accuracy: 0.9098 - val_loss: 0.2647\n"
     ]
    },
    {
     "data": {
      "text/html": [
       "<pre style=\"white-space:pre;overflow-x:auto;line-height:normal;font-family:Menlo,'DejaVu Sans Mono',consolas,'Courier New',monospace\"><span style=\"font-weight: bold\">Model: \"sequential_1\"</span>\n",
       "</pre>\n"
      ],
      "text/plain": [
       "\u001b[1mModel: \"sequential_1\"\u001b[0m\n"
      ]
     },
     "metadata": {},
     "output_type": "display_data"
    },
    {
     "data": {
      "text/html": [
       "<pre style=\"white-space:pre;overflow-x:auto;line-height:normal;font-family:Menlo,'DejaVu Sans Mono',consolas,'Courier New',monospace\">┏━━━━━━━━━━━━━━━━━━━━━━━━━━━━━━━━━┳━━━━━━━━━━━━━━━━━━━━━━━━┳━━━━━━━━━━━━━━━┓\n",
       "┃<span style=\"font-weight: bold\"> Layer (type)                    </span>┃<span style=\"font-weight: bold\"> Output Shape           </span>┃<span style=\"font-weight: bold\">       Param # </span>┃\n",
       "┡━━━━━━━━━━━━━━━━━━━━━━━━━━━━━━━━━╇━━━━━━━━━━━━━━━━━━━━━━━━╇━━━━━━━━━━━━━━━┩\n",
       "│ embedding_1 (<span style=\"color: #0087ff; text-decoration-color: #0087ff\">Embedding</span>)         │ (<span style=\"color: #00d7ff; text-decoration-color: #00d7ff\">None</span>, <span style=\"color: #00af00; text-decoration-color: #00af00\">100</span>, <span style=\"color: #00af00; text-decoration-color: #00af00\">128</span>)       │       <span style=\"color: #00af00; text-decoration-color: #00af00\">128,000</span> │\n",
       "├─────────────────────────────────┼────────────────────────┼───────────────┤\n",
       "│ bidirectional (<span style=\"color: #0087ff; text-decoration-color: #0087ff\">Bidirectional</span>)   │ (<span style=\"color: #00d7ff; text-decoration-color: #00d7ff\">None</span>, <span style=\"color: #00af00; text-decoration-color: #00af00\">100</span>, <span style=\"color: #00af00; text-decoration-color: #00af00\">256</span>)       │       <span style=\"color: #00af00; text-decoration-color: #00af00\">263,168</span> │\n",
       "├─────────────────────────────────┼────────────────────────┼───────────────┤\n",
       "│ bidirectional_1 (<span style=\"color: #0087ff; text-decoration-color: #0087ff\">Bidirectional</span>) │ (<span style=\"color: #00d7ff; text-decoration-color: #00d7ff\">None</span>, <span style=\"color: #00af00; text-decoration-color: #00af00\">256</span>)            │       <span style=\"color: #00af00; text-decoration-color: #00af00\">394,240</span> │\n",
       "├─────────────────────────────────┼────────────────────────┼───────────────┤\n",
       "│ batch_normalization_1           │ (<span style=\"color: #00d7ff; text-decoration-color: #00d7ff\">None</span>, <span style=\"color: #00af00; text-decoration-color: #00af00\">256</span>)            │         <span style=\"color: #00af00; text-decoration-color: #00af00\">1,024</span> │\n",
       "│ (<span style=\"color: #0087ff; text-decoration-color: #0087ff\">BatchNormalization</span>)            │                        │               │\n",
       "├─────────────────────────────────┼────────────────────────┼───────────────┤\n",
       "│ dense_1 (<span style=\"color: #0087ff; text-decoration-color: #0087ff\">Dense</span>)                 │ (<span style=\"color: #00d7ff; text-decoration-color: #00d7ff\">None</span>, <span style=\"color: #00af00; text-decoration-color: #00af00\">1</span>)              │           <span style=\"color: #00af00; text-decoration-color: #00af00\">257</span> │\n",
       "└─────────────────────────────────┴────────────────────────┴───────────────┘\n",
       "</pre>\n"
      ],
      "text/plain": [
       "┏━━━━━━━━━━━━━━━━━━━━━━━━━━━━━━━━━┳━━━━━━━━━━━━━━━━━━━━━━━━┳━━━━━━━━━━━━━━━┓\n",
       "┃\u001b[1m \u001b[0m\u001b[1mLayer (type)                   \u001b[0m\u001b[1m \u001b[0m┃\u001b[1m \u001b[0m\u001b[1mOutput Shape          \u001b[0m\u001b[1m \u001b[0m┃\u001b[1m \u001b[0m\u001b[1m      Param #\u001b[0m\u001b[1m \u001b[0m┃\n",
       "┡━━━━━━━━━━━━━━━━━━━━━━━━━━━━━━━━━╇━━━━━━━━━━━━━━━━━━━━━━━━╇━━━━━━━━━━━━━━━┩\n",
       "│ embedding_1 (\u001b[38;5;33mEmbedding\u001b[0m)         │ (\u001b[38;5;45mNone\u001b[0m, \u001b[38;5;34m100\u001b[0m, \u001b[38;5;34m128\u001b[0m)       │       \u001b[38;5;34m128,000\u001b[0m │\n",
       "├─────────────────────────────────┼────────────────────────┼───────────────┤\n",
       "│ bidirectional (\u001b[38;5;33mBidirectional\u001b[0m)   │ (\u001b[38;5;45mNone\u001b[0m, \u001b[38;5;34m100\u001b[0m, \u001b[38;5;34m256\u001b[0m)       │       \u001b[38;5;34m263,168\u001b[0m │\n",
       "├─────────────────────────────────┼────────────────────────┼───────────────┤\n",
       "│ bidirectional_1 (\u001b[38;5;33mBidirectional\u001b[0m) │ (\u001b[38;5;45mNone\u001b[0m, \u001b[38;5;34m256\u001b[0m)            │       \u001b[38;5;34m394,240\u001b[0m │\n",
       "├─────────────────────────────────┼────────────────────────┼───────────────┤\n",
       "│ batch_normalization_1           │ (\u001b[38;5;45mNone\u001b[0m, \u001b[38;5;34m256\u001b[0m)            │         \u001b[38;5;34m1,024\u001b[0m │\n",
       "│ (\u001b[38;5;33mBatchNormalization\u001b[0m)            │                        │               │\n",
       "├─────────────────────────────────┼────────────────────────┼───────────────┤\n",
       "│ dense_1 (\u001b[38;5;33mDense\u001b[0m)                 │ (\u001b[38;5;45mNone\u001b[0m, \u001b[38;5;34m1\u001b[0m)              │           \u001b[38;5;34m257\u001b[0m │\n",
       "└─────────────────────────────────┴────────────────────────┴───────────────┘\n"
      ]
     },
     "metadata": {},
     "output_type": "display_data"
    },
    {
     "data": {
      "text/html": [
       "<pre style=\"white-space:pre;overflow-x:auto;line-height:normal;font-family:Menlo,'DejaVu Sans Mono',consolas,'Courier New',monospace\"><span style=\"font-weight: bold\"> Total params: </span><span style=\"color: #00af00; text-decoration-color: #00af00\">2,359,045</span> (9.00 MB)\n",
       "</pre>\n"
      ],
      "text/plain": [
       "\u001b[1m Total params: \u001b[0m\u001b[38;5;34m2,359,045\u001b[0m (9.00 MB)\n"
      ]
     },
     "metadata": {},
     "output_type": "display_data"
    },
    {
     "data": {
      "text/html": [
       "<pre style=\"white-space:pre;overflow-x:auto;line-height:normal;font-family:Menlo,'DejaVu Sans Mono',consolas,'Courier New',monospace\"><span style=\"font-weight: bold\"> Trainable params: </span><span style=\"color: #00af00; text-decoration-color: #00af00\">786,177</span> (3.00 MB)\n",
       "</pre>\n"
      ],
      "text/plain": [
       "\u001b[1m Trainable params: \u001b[0m\u001b[38;5;34m786,177\u001b[0m (3.00 MB)\n"
      ]
     },
     "metadata": {},
     "output_type": "display_data"
    },
    {
     "data": {
      "text/html": [
       "<pre style=\"white-space:pre;overflow-x:auto;line-height:normal;font-family:Menlo,'DejaVu Sans Mono',consolas,'Courier New',monospace\"><span style=\"font-weight: bold\"> Non-trainable params: </span><span style=\"color: #00af00; text-decoration-color: #00af00\">512</span> (2.00 KB)\n",
       "</pre>\n"
      ],
      "text/plain": [
       "\u001b[1m Non-trainable params: \u001b[0m\u001b[38;5;34m512\u001b[0m (2.00 KB)\n"
      ]
     },
     "metadata": {},
     "output_type": "display_data"
    },
    {
     "data": {
      "text/html": [
       "<pre style=\"white-space:pre;overflow-x:auto;line-height:normal;font-family:Menlo,'DejaVu Sans Mono',consolas,'Courier New',monospace\"><span style=\"font-weight: bold\"> Optimizer params: </span><span style=\"color: #00af00; text-decoration-color: #00af00\">1,572,356</span> (6.00 MB)\n",
       "</pre>\n"
      ],
      "text/plain": [
       "\u001b[1m Optimizer params: \u001b[0m\u001b[38;5;34m1,572,356\u001b[0m (6.00 MB)\n"
      ]
     },
     "metadata": {},
     "output_type": "display_data"
    }
   ],
   "source": [
    "# Train the model\n",
    "model.fit(X_train, y_train, epochs=5, batch_size=32, validation_data=(X_test, y_test))\n",
    "model.summary()"
   ]
  },
  {
   "cell_type": "code",
   "execution_count": 28,
   "id": "bf79dff0-5e63-46bb-ac42-60260365d1cf",
   "metadata": {},
   "outputs": [
    {
     "name": "stdout",
     "output_type": "stream",
     "text": [
      "\u001b[1m63/63\u001b[0m \u001b[32m━━━━━━━━━━━━━━━━━━━━\u001b[0m\u001b[37m\u001b[0m \u001b[1m3s\u001b[0m 43ms/step - accuracy: 0.9157 - loss: 0.2592\n",
      "Bidirectional LSTM Test Loss: 0.26470184326171875\n",
      "Bidirectional LSTM Test Accuracy: 0.9097744226455688\n"
     ]
    }
   ],
   "source": [
    "# Evaluate the model\n",
    "loss, accuracy = model.evaluate(X_test, y_test)\n",
    "print(\"Bidirectional LSTM Test Loss:\", loss)\n",
    "print(\"Bidirectional LSTM Test Accuracy:\", accuracy)\n",
    "Accuracy_Bi_lstm  =accuracy\n"
   ]
  },
  {
   "cell_type": "markdown",
   "id": "307002f6-28af-4013-8a60-ca05ba9240f0",
   "metadata": {},
   "source": [
    "## GRU - Bidirectional"
   ]
  },
  {
   "cell_type": "code",
   "execution_count": 29,
   "id": "459b6c72-96cd-4870-8db7-8dd43d614f31",
   "metadata": {
    "scrolled": true
   },
   "outputs": [],
   "source": [
    "# Define GRU model\n",
    "model = Sequential()\n",
    "model.add(Embedding(input_dim=max_words, output_dim=128, input_length=max_sequence_length))\n",
    "model.add(Bidirectional(GRU(64)))  # Using Bidirectional GRU for better context understanding\n",
    "model.add(Dropout(0.5))  # Dropout layer for regularization\n",
    "model.add(Dense(1, activation='sigmoid'))\n",
    "\n",
    "# Compile the model\n",
    "model.compile(optimizer='adam', loss='binary_crossentropy', metrics=['accuracy'])"
   ]
  },
  {
   "cell_type": "code",
   "execution_count": 30,
   "id": "c718932b-292f-4c88-82cc-ba1208dcbe5d",
   "metadata": {},
   "outputs": [
    {
     "name": "stdout",
     "output_type": "stream",
     "text": [
      "Epoch 1/5\n",
      "\u001b[1m125/125\u001b[0m \u001b[32m━━━━━━━━━━━━━━━━━━━━\u001b[0m\u001b[37m\u001b[0m \u001b[1m12s\u001b[0m 56ms/step - accuracy: 0.7287 - loss: 0.5354 - val_accuracy: 0.8997 - val_loss: 0.2745\n",
      "Epoch 2/5\n",
      "\u001b[1m125/125\u001b[0m \u001b[32m━━━━━━━━━━━━━━━━━━━━\u001b[0m\u001b[37m\u001b[0m \u001b[1m6s\u001b[0m 50ms/step - accuracy: 0.9194 - loss: 0.2231 - val_accuracy: 0.9053 - val_loss: 0.2552\n",
      "Epoch 3/5\n",
      "\u001b[1m125/125\u001b[0m \u001b[32m━━━━━━━━━━━━━━━━━━━━\u001b[0m\u001b[37m\u001b[0m \u001b[1m6s\u001b[0m 48ms/step - accuracy: 0.9565 - loss: 0.1308 - val_accuracy: 0.9213 - val_loss: 0.2354\n",
      "Epoch 4/5\n",
      "\u001b[1m125/125\u001b[0m \u001b[32m━━━━━━━━━━━━━━━━━━━━\u001b[0m\u001b[37m\u001b[0m \u001b[1m6s\u001b[0m 51ms/step - accuracy: 0.9716 - loss: 0.0937 - val_accuracy: 0.9253 - val_loss: 0.2380\n",
      "Epoch 5/5\n",
      "\u001b[1m125/125\u001b[0m \u001b[32m━━━━━━━━━━━━━━━━━━━━\u001b[0m\u001b[37m\u001b[0m \u001b[1m6s\u001b[0m 49ms/step - accuracy: 0.9796 - loss: 0.0743 - val_accuracy: 0.9253 - val_loss: 0.2767\n"
     ]
    },
    {
     "data": {
      "text/html": [
       "<pre style=\"white-space:pre;overflow-x:auto;line-height:normal;font-family:Menlo,'DejaVu Sans Mono',consolas,'Courier New',monospace\"><span style=\"font-weight: bold\">Model: \"sequential_2\"</span>\n",
       "</pre>\n"
      ],
      "text/plain": [
       "\u001b[1mModel: \"sequential_2\"\u001b[0m\n"
      ]
     },
     "metadata": {},
     "output_type": "display_data"
    },
    {
     "data": {
      "text/html": [
       "<pre style=\"white-space:pre;overflow-x:auto;line-height:normal;font-family:Menlo,'DejaVu Sans Mono',consolas,'Courier New',monospace\">┏━━━━━━━━━━━━━━━━━━━━━━━━━━━━━━━━━┳━━━━━━━━━━━━━━━━━━━━━━━━┳━━━━━━━━━━━━━━━┓\n",
       "┃<span style=\"font-weight: bold\"> Layer (type)                    </span>┃<span style=\"font-weight: bold\"> Output Shape           </span>┃<span style=\"font-weight: bold\">       Param # </span>┃\n",
       "┡━━━━━━━━━━━━━━━━━━━━━━━━━━━━━━━━━╇━━━━━━━━━━━━━━━━━━━━━━━━╇━━━━━━━━━━━━━━━┩\n",
       "│ embedding_2 (<span style=\"color: #0087ff; text-decoration-color: #0087ff\">Embedding</span>)         │ (<span style=\"color: #00d7ff; text-decoration-color: #00d7ff\">None</span>, <span style=\"color: #00af00; text-decoration-color: #00af00\">100</span>, <span style=\"color: #00af00; text-decoration-color: #00af00\">128</span>)       │     <span style=\"color: #00af00; text-decoration-color: #00af00\">1,280,000</span> │\n",
       "├─────────────────────────────────┼────────────────────────┼───────────────┤\n",
       "│ bidirectional_2 (<span style=\"color: #0087ff; text-decoration-color: #0087ff\">Bidirectional</span>) │ (<span style=\"color: #00d7ff; text-decoration-color: #00d7ff\">None</span>, <span style=\"color: #00af00; text-decoration-color: #00af00\">128</span>)            │        <span style=\"color: #00af00; text-decoration-color: #00af00\">74,496</span> │\n",
       "├─────────────────────────────────┼────────────────────────┼───────────────┤\n",
       "│ dropout (<span style=\"color: #0087ff; text-decoration-color: #0087ff\">Dropout</span>)               │ (<span style=\"color: #00d7ff; text-decoration-color: #00d7ff\">None</span>, <span style=\"color: #00af00; text-decoration-color: #00af00\">128</span>)            │             <span style=\"color: #00af00; text-decoration-color: #00af00\">0</span> │\n",
       "├─────────────────────────────────┼────────────────────────┼───────────────┤\n",
       "│ dense_2 (<span style=\"color: #0087ff; text-decoration-color: #0087ff\">Dense</span>)                 │ (<span style=\"color: #00d7ff; text-decoration-color: #00d7ff\">None</span>, <span style=\"color: #00af00; text-decoration-color: #00af00\">1</span>)              │           <span style=\"color: #00af00; text-decoration-color: #00af00\">129</span> │\n",
       "└─────────────────────────────────┴────────────────────────┴───────────────┘\n",
       "</pre>\n"
      ],
      "text/plain": [
       "┏━━━━━━━━━━━━━━━━━━━━━━━━━━━━━━━━━┳━━━━━━━━━━━━━━━━━━━━━━━━┳━━━━━━━━━━━━━━━┓\n",
       "┃\u001b[1m \u001b[0m\u001b[1mLayer (type)                   \u001b[0m\u001b[1m \u001b[0m┃\u001b[1m \u001b[0m\u001b[1mOutput Shape          \u001b[0m\u001b[1m \u001b[0m┃\u001b[1m \u001b[0m\u001b[1m      Param #\u001b[0m\u001b[1m \u001b[0m┃\n",
       "┡━━━━━━━━━━━━━━━━━━━━━━━━━━━━━━━━━╇━━━━━━━━━━━━━━━━━━━━━━━━╇━━━━━━━━━━━━━━━┩\n",
       "│ embedding_2 (\u001b[38;5;33mEmbedding\u001b[0m)         │ (\u001b[38;5;45mNone\u001b[0m, \u001b[38;5;34m100\u001b[0m, \u001b[38;5;34m128\u001b[0m)       │     \u001b[38;5;34m1,280,000\u001b[0m │\n",
       "├─────────────────────────────────┼────────────────────────┼───────────────┤\n",
       "│ bidirectional_2 (\u001b[38;5;33mBidirectional\u001b[0m) │ (\u001b[38;5;45mNone\u001b[0m, \u001b[38;5;34m128\u001b[0m)            │        \u001b[38;5;34m74,496\u001b[0m │\n",
       "├─────────────────────────────────┼────────────────────────┼───────────────┤\n",
       "│ dropout (\u001b[38;5;33mDropout\u001b[0m)               │ (\u001b[38;5;45mNone\u001b[0m, \u001b[38;5;34m128\u001b[0m)            │             \u001b[38;5;34m0\u001b[0m │\n",
       "├─────────────────────────────────┼────────────────────────┼───────────────┤\n",
       "│ dense_2 (\u001b[38;5;33mDense\u001b[0m)                 │ (\u001b[38;5;45mNone\u001b[0m, \u001b[38;5;34m1\u001b[0m)              │           \u001b[38;5;34m129\u001b[0m │\n",
       "└─────────────────────────────────┴────────────────────────┴───────────────┘\n"
      ]
     },
     "metadata": {},
     "output_type": "display_data"
    },
    {
     "data": {
      "text/html": [
       "<pre style=\"white-space:pre;overflow-x:auto;line-height:normal;font-family:Menlo,'DejaVu Sans Mono',consolas,'Courier New',monospace\"><span style=\"font-weight: bold\"> Total params: </span><span style=\"color: #00af00; text-decoration-color: #00af00\">4,063,877</span> (15.50 MB)\n",
       "</pre>\n"
      ],
      "text/plain": [
       "\u001b[1m Total params: \u001b[0m\u001b[38;5;34m4,063,877\u001b[0m (15.50 MB)\n"
      ]
     },
     "metadata": {},
     "output_type": "display_data"
    },
    {
     "data": {
      "text/html": [
       "<pre style=\"white-space:pre;overflow-x:auto;line-height:normal;font-family:Menlo,'DejaVu Sans Mono',consolas,'Courier New',monospace\"><span style=\"font-weight: bold\"> Trainable params: </span><span style=\"color: #00af00; text-decoration-color: #00af00\">1,354,625</span> (5.17 MB)\n",
       "</pre>\n"
      ],
      "text/plain": [
       "\u001b[1m Trainable params: \u001b[0m\u001b[38;5;34m1,354,625\u001b[0m (5.17 MB)\n"
      ]
     },
     "metadata": {},
     "output_type": "display_data"
    },
    {
     "data": {
      "text/html": [
       "<pre style=\"white-space:pre;overflow-x:auto;line-height:normal;font-family:Menlo,'DejaVu Sans Mono',consolas,'Courier New',monospace\"><span style=\"font-weight: bold\"> Non-trainable params: </span><span style=\"color: #00af00; text-decoration-color: #00af00\">0</span> (0.00 B)\n",
       "</pre>\n"
      ],
      "text/plain": [
       "\u001b[1m Non-trainable params: \u001b[0m\u001b[38;5;34m0\u001b[0m (0.00 B)\n"
      ]
     },
     "metadata": {},
     "output_type": "display_data"
    },
    {
     "data": {
      "text/html": [
       "<pre style=\"white-space:pre;overflow-x:auto;line-height:normal;font-family:Menlo,'DejaVu Sans Mono',consolas,'Courier New',monospace\"><span style=\"font-weight: bold\"> Optimizer params: </span><span style=\"color: #00af00; text-decoration-color: #00af00\">2,709,252</span> (10.33 MB)\n",
       "</pre>\n"
      ],
      "text/plain": [
       "\u001b[1m Optimizer params: \u001b[0m\u001b[38;5;34m2,709,252\u001b[0m (10.33 MB)\n"
      ]
     },
     "metadata": {},
     "output_type": "display_data"
    }
   ],
   "source": [
    "# Train the model\n",
    "epochs_hist = model.fit(X_train, y_train, epochs=5, batch_size=64, validation_data=(X_test, y_test))\n",
    "model.summary()"
   ]
  },
  {
   "cell_type": "code",
   "execution_count": 31,
   "id": "6a28caf5-e520-4bd9-afd3-4b1c3d90a4aa",
   "metadata": {},
   "outputs": [
    {
     "data": {
      "image/png": "[encoded data removed]",
      "text/plain": [
       "<Figure size 1000x600 with 1 Axes>"
      ]
     },
     "metadata": {},
     "output_type": "display_data"
    }
   ],
   "source": [
    "# Plot the training and validation loss progress over epochs\n",
    "plt.figure(figsize=(10, 6))\n",
    "plt.plot(epochs_hist.history['loss'], label='Training Loss')\n",
    "plt.plot(epochs_hist.history['val_loss'], label='Validation Loss')\n",
    "plt.title('Model Loss Progress During Training')\n",
    "plt.xlabel('Epoch')\n",
    "plt.ylabel('Loss')\n",
    "plt.legend()\n",
    "\n",
    "\n",
    "plt.grid(True)\n",
    "plt.show()"
   ]
  },
  {
   "cell_type": "code",
   "execution_count": 32,
   "id": "859f3a86-04ab-4e24-beca-277af2ca5559",
   "metadata": {},
   "outputs": [
    {
     "name": "stdout",
     "output_type": "stream",
     "text": [
      "\u001b[1m63/63\u001b[0m \u001b[32m━━━━━━━━━━━━━━━━━━━━\u001b[0m\u001b[37m\u001b[0m \u001b[1m0s\u001b[0m 7ms/step - accuracy: 0.9273 - loss: 0.2706\n",
      "Test Loss: 0.27673184871673584\n",
      "Test Accuracy: 0.9253132939338684\n"
     ]
    }
   ],
   "source": [
    "# Evaluate the model\n",
    "loss, accuracy = model.evaluate(X_test, y_test)\n",
    "print(\"Test Loss:\", loss)\n",
    "print(\"Test Accuracy:\", accuracy)\n",
    "Accuracy_gru = accuracy"
   ]
  },
  {
   "cell_type": "markdown",
   "id": "1c57ef3a-229b-48ef-875c-1d6850239930",
   "metadata": {},
   "source": [
    "### Comparision of NLP and Deep Learning Models "
   ]
  },
  {
   "cell_type": "code",
   "execution_count": 33,
   "id": "6eca6be5-0a57-4433-a383-d57c0bcbdced",
   "metadata": {},
   "outputs": [
    {
     "name": "stdout",
     "output_type": "stream",
     "text": [
      "\n",
      "\n",
      "Mn Naive Bayes Accuracy:            0.9053\n",
      "Logistic Regression Accuracy:       0.8145\n",
      "RNN - LSTM Accuracy:                0.8722\n",
      "RNN - Bi-directional LSTM Accuracy: 0.9098\n",
      "GRN - Bidirectional Accuracy:       0.9253\n",
      "\n",
      "\n"
     ]
    }
   ],
   "source": [
    "print(\"\\n\")\n",
    "print(f\"Mn Naive Bayes Accuracy:            {Accuracy_lr:.4f}\")\n",
    "print(f\"Logistic Regression Accuracy:       {Accuracy_nb:.4f}\")\n",
    "print(f\"RNN - LSTM Accuracy:                {Accuracy_lstm:.4f}\")\n",
    "print(f\"RNN - Bi-directional LSTM Accuracy: {Accuracy_Bi_lstm:.4f}\")\n",
    "print(f\"GRN - Bidirectional Accuracy:       {Accuracy_gru:.4f}\")\n",
    "print(\"\\n\")\n"
   ]
  },
  {
   "cell_type": "markdown",
   "id": "a22ec5e3-7491-440e-9926-23d6416d5d36",
   "metadata": {},
   "source": [
    "## Hyperparameter Tuning:\n",
    "### Gated - RNN (GRU Bidirectional)"
   ]
  },
  {
   "cell_type": "code",
   "execution_count": 34,
   "id": "1251b6c3-eb11-466e-8833-7061b43cc6e4",
   "metadata": {},
   "outputs": [],
   "source": [
    "from tensorflow import keras\n",
    "import kerastuner as kt"
   ]
  },
  {
   "cell_type": "code",
   "execution_count": 35,
   "id": "3a9443e6-fc43-4b44-bf8a-dc74fd2bee78",
   "metadata": {},
   "outputs": [],
   "source": [
    "def model_builder(hp):\n",
    "  '''\n",
    "  Args:\n",
    "    hp - Keras tuner object\n",
    "  '''\n",
    "  # Initialize the Sequential API and start stacking the layers\n",
    "  model = keras.Sequential()\n",
    "  model.add(Embedding(input_dim=max_words, output_dim=128, input_length=max_sequence_length))\n",
    "  # Tune the number of units in the first Dense layer\n",
    "  # Choose an optimal value between 32-512\n",
    "  hp_units = hp.Int('units', min_value=32, max_value=64, step=4)\n",
    "  #model.add(keras.layers.Dense(units=hp_units, activation='relu', name='dense_1'))\n",
    "  model.add(keras.layers.Bidirectional(GRU(units=hp_units, name='GRU-BiDirect')))\n",
    "  # Add next layers\n",
    "  model.add(Dropout(0.5))  # Dropout layer for regularization\n",
    "  model.add(Dense(1, activation='sigmoid'))\n",
    "  # Tune the learning rate for the optimizer\n",
    "  # Choose an optimal value from 0.01, 0.001, or 0.0001\n",
    "  hp_learning_rate = hp.Choice('learning_rate', values=[1e-2, 1e-3, 1e-4])\n",
    "  model.compile(optimizer=keras.optimizers.Adam(learning_rate=hp_learning_rate),\n",
    "                loss=keras.losses.binary_crossentropy,\n",
    "                metrics=['accuracy'])\n",
    "  return model"
   ]
  },
  {
   "cell_type": "code",
   "execution_count": 36,
   "id": "03f3bb13-d596-4958-8682-db7bc11460c3",
   "metadata": {
    "scrolled": true
   },
   "outputs": [
    {
     "name": "stdout",
     "output_type": "stream",
     "text": [
      "Search space summary\n",
      "Default search space size: 2\n",
      "units (Int)\n",
      "{'default': None, 'conditions': [], 'min_value': 32, 'max_value': 64, 'step': 4, 'sampling': 'linear'}\n",
      "learning_rate (Choice)\n",
      "{'default': 0.01, 'conditions': [], 'values': [0.01, 0.001, 0.0001], 'ordered': True}\n"
     ]
    }
   ],
   "source": [
    "# Instantiate the tuner\n",
    "tuner = kt.Hyperband(   model_builder, \n",
    "                        objective='val_accuracy', # \n",
    "                        max_epochs=10,\n",
    "                        factor=3, # factor which you have seen above \n",
    "                        directory='dir', # directory to save logs \n",
    "                        project_name='Sentiment')\n",
    "# hypertuning settings\n",
    "tuner.search_space_summary() "
   ]
  },
  {
   "cell_type": "code",
   "execution_count": 37,
   "id": "9344c9fb-2492-4ba4-a96f-a9bcec9f4c5e",
   "metadata": {},
   "outputs": [],
   "source": [
    "stop_early = tf.keras.callbacks.EarlyStopping(monitor='val_loss', patience=5)"
   ]
  },
  {
   "cell_type": "code",
   "execution_count": 38,
   "id": "2b380822-395c-4280-b362-f76253197a39",
   "metadata": {},
   "outputs": [
    {
     "name": "stdout",
     "output_type": "stream",
     "text": [
      "Trial 30 Complete [00h 00m 48s]\n",
      "val_accuracy: 0.9003759622573853\n",
      "\n",
      "Best val_accuracy So Far: 0.9104009866714478\n",
      "Total elapsed time: 00h 14m 23s\n"
     ]
    }
   ],
   "source": [
    "# Perform hypertuning\n",
    "tuner.search(X_train, y_train, epochs=10, validation_split=0.2, callbacks=[stop_early])\n",
    "best_hp=tuner.get_best_hyperparameters()[0]"
   ]
  },
  {
   "cell_type": "code",
   "execution_count": null,
   "id": "05cba9aa-b929-49e8-9234-49945cd3b6ef",
   "metadata": {},
   "outputs": [],
   "source": []
  }
 ],
 "metadata": {
  "kernelspec": {
   "display_name": "Python 3 (ipykernel)",
   "language": "python",
   "name": "python3"
  },
  "language_info": {
   "codemirror_mode": {
    "name": "ipython",
    "version": 3
   },
   "file_extension": ".py",
   "mimetype": "text/x-python",
   "name": "python",
   "nbconvert_exporter": "python",
   "pygments_lexer": "ipython3",
   "version": "3.11.9"
  }
 },
 "nbformat": 4,
 "nbformat_minor": 5
}
